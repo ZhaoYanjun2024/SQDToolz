{
 "cells": [
  {
   "cell_type": "code",
   "execution_count": 1,
   "metadata": {},
   "outputs": [],
   "source": [
    "import sqdtoolz as sqdt\n",
    "import numpy as np\n",
    "import os\n",
    "import pandas as pd \n",
    "from matplotlib import pyplot as plt\n",
    "from time import sleep\n",
    "from sqdtoolz.Utilities.DataFitting import* \n",
    "from sqdtoolz.Utilities.DataFitting import DFitNotchResonance\n",
    "from sqdtoolz.Utilities.FileIO import FileIOReader\n",
    "from sqdtoolz.Drivers.ACQ_RS_FSV_SAZ import RS_FSV_SAZ\n",
    "# from resonator_tools import circuit\n",
    "import datetime"
   ]
  },
  {
   "cell_type": "code",
   "execution_count": 2,
   "metadata": {},
   "outputs": [
    {
     "data": {
      "text/plain": [
       "<module 'sqdtoolz' from 'c:\\\\users\\\\experiment\\\\documents\\\\sqdtoolz\\\\sqdtoolz\\\\__init__.py'>"
      ]
     },
     "execution_count": 2,
     "metadata": {},
     "output_type": "execute_result"
    }
   ],
   "source": [
    "lab = sqdt.Laboratory(instr_config_file = \"ACQ_saz_Rack.yaml\", save_dir = \"z:\\\\Data\\\\Double-Upconversion_NEW_Oscilloscope_Driver_Test\\\\\", using_VS_Code=True)\n",
    "# dsc.close_all()\n",
    "saz= RS_FSV_SAZ('saz', address='TCPIP::192.168.1.150::INSTR')\n",
    "sqdt\n",
    "# lab.load_instrument('dsc')\n",
    "# sqdt.HAL.ACQdsc('dsc', lab, ['dsc','CH1'])\n"
   ]
  },
  {
   "cell_type": "code",
   "execution_count": 27,
   "metadata": {},
   "outputs": [],
   "source": [
    "saz.GTR#go to remote control\n",
    "saz.SystemDisplayUpdate='on'#turn on the local monitor\n",
    "saz.FormatData='real,32'#the data format of the wave form\n",
    "saz.SenseAdjustAll='all'# auoto set:auto all\n",
    "\n"
   ]
  },
  {
   "cell_type": "code",
   "execution_count": 28,
   "metadata": {},
   "outputs": [],
   "source": [
    "saz.SenseRoscillatorSource='external'#or internal\n",
    "saz.SenseRoscillatorExternalFrequency=10e6#10MHz"
   ]
  },
  {
   "cell_type": "code",
   "execution_count": 29,
   "metadata": {},
   "outputs": [
    {
     "data": {
      "text/plain": [
       "10000000.0"
      ]
     },
     "execution_count": 29,
     "metadata": {},
     "output_type": "execute_result"
    }
   ],
   "source": [
    "saz.SenseRoscillatorExternalFrequency"
   ]
  },
  {
   "cell_type": "code",
   "execution_count": null,
   "metadata": {},
   "outputs": [],
   "source": []
  },
  {
   "cell_type": "code",
   "execution_count": 8,
   "metadata": {},
   "outputs": [],
   "source": [
    "saz.SenseFrequencyCenter=6e9#center frequency\n",
    "saz.SenseFrequencySpan=2e9#frequency span"
   ]
  },
  {
   "cell_type": "code",
   "execution_count": 6,
   "metadata": {},
   "outputs": [],
   "source": [
    "saz.SenseFrequencySpanFull='full'\n"
   ]
  },
  {
   "cell_type": "code",
   "execution_count": 65,
   "metadata": {},
   "outputs": [],
   "source": [
    "saz.SenseFrequencyStart=1e9\n",
    "saz.SenseFrequencyStop=9e9"
   ]
  },
  {
   "cell_type": "code",
   "execution_count": 3,
   "metadata": {},
   "outputs": [
    {
     "name": "stdout",
     "output_type": "stream",
     "text": [
      "(1, 691)\n"
     ]
    },
    {
     "data": {
      "image/png": "[encoded data removed]",
      "text/plain": [
       "<Figure size 432x288 with 1 Axes>"
      ]
     },
     "metadata": {
      "needs_background": "light"
     },
     "output_type": "display_data"
    }
   ],
   "source": [
    "saz.wfm_plot()\n",
    "path=\"z:\\\\Data\\\\Double-Upconversion_NEW_Oscilloscope_Driver_Test\\\\addd.h5\"\n",
    "saz.data2hdf5(path)"
   ]
  },
  {
   "cell_type": "code",
   "execution_count": 69,
   "metadata": {},
   "outputs": [],
   "source": [
    "type(saz.wfm_data)\n",
    "np.savetxt('Z:\\\\PEOPLE\\David\\\\data_dupc\\\\2nd_stage_5.61057GHZ_FREQ_1-9G_run2.out', saz.X, delimiter=',')\n",
    "np.savetxt('Z:\\\\PEOPLE\\David\\\\data_dupc\\\\2nd_stage_5.61057GHZ_POWER_ZOOM_1-9G_run2.out', saz.Y, delimiter=',')"
   ]
  },
  {
   "cell_type": "code",
   "execution_count": null,
   "metadata": {},
   "outputs": [],
   "source": [
    "saz.Y"
   ]
  },
  {
   "cell_type": "code",
   "execution_count": 4,
   "metadata": {},
   "outputs": [
    {
     "data": {
      "text/plain": [
       "'ON'"
      ]
     },
     "execution_count": 4,
     "metadata": {},
     "output_type": "execute_result"
    }
   ],
   "source": [
    "wf3_channel_a._instr_mw_output.pll_status()"
   ]
  },
  {
   "cell_type": "code",
   "execution_count": null,
   "metadata": {},
   "outputs": [],
   "source": []
  },
  {
   "cell_type": "code",
   "execution_count": 72,
   "metadata": {},
   "outputs": [],
   "source": [
    "\n",
    "lab.load_instrument('MWS_Windfreak_3')\n",
    "wf3_channel_a = sqdt.GENmwSource('WINDFREAK_CH_A', lab, 'MWS_Windfreak_3', 'RFoutA') #HAL\n",
    "wf3_channel_b = sqdt.GENmwSource('WINDFREAK_CH_B', lab, 'MWS_Windfreak_3', 'RFoutB') #HAL\n",
    "\n",
    "\n",
    "lab.load_instrument('src_res')\n",
    "src_res=sqdt.GENmwSource('src_res', lab, 'src_res', 'RFOUT')\n",
    "#Windfreak 3 channels\n",
    "\n",
    "src_res.Power=-10\n",
    "src_res.Frequency=500e6\n",
    "src_res.Output=True\n",
    "src_res.Mode='Continuous'\n",
    "\n",
    "#channel A\n",
    "wf3_channel_a.Power = 16 #dBm\n",
    "wf3_channel_a.Output = True\n",
    "wf3_channel_a.Frequency = 3.4e9 #LO1 3.4e9\n",
    "wf3_channel_a.Mode = 'Continuous'\n",
    "\n",
    "#channel B\n",
    "wf3_channel_b.Power = 16 #dBm\n",
    "wf3_channel_b.Output = True\n",
    "wf3_channel_b.Frequency =  8.51057e9\n",
    "wf3_channel_b.Mode = 'Continuous'"
   ]
  },
  {
   "cell_type": "code",
   "execution_count": 73,
   "metadata": {},
   "outputs": [
    {
     "data": {
      "text/plain": [
       "11.41057"
      ]
     },
     "execution_count": 73,
     "metadata": {},
     "output_type": "execute_result"
    }
   ],
   "source": [
    "5.61057+2.9 + 2.9"
   ]
  }
 ],
 "metadata": {
  "kernelspec": {
   "display_name": "sqdtoolz",
   "language": "python",
   "name": "python3"
  },
  "language_info": {
   "codemirror_mode": {
    "name": "ipython",
    "version": 3
   },
   "file_extension": ".py",
   "mimetype": "text/x-python",
   "name": "python",
   "nbconvert_exporter": "python",
   "pygments_lexer": "ipython3",
   "version": "3.9.5"
  }
 },
 "nbformat": 4,
 "nbformat_minor": 2
}
